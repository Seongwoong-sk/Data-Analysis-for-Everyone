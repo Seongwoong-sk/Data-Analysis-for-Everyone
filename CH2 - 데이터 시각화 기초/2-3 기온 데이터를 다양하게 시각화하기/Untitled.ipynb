{
 "cells": [
  {
   "cell_type": "markdown",
   "metadata": {},
   "source": [
    "# 1. 데이터에 질문하기\n",
    "\n",
    "- 데이터를 보는 관점에 따라 다르게 해석될 수 있음\n",
    "- 히스토그램\n",
    "- 박스 플롯"
   ]
  },
  {
   "cell_type": "markdown",
   "metadata": {},
   "source": [
    "# 2. 히스토그램\n",
    "- 자료의 분포 상태를 직사각형 모양의 막대 그래프로 나타낸 것\n",
    "- hist() 함수를 사용"
   ]
  },
  {
   "cell_type": "code",
   "execution_count": 4,
   "metadata": {},
   "outputs": [
    {
     "data": {
      "image/png": "[encoded data removed]",
      "text/plain": [
       "<Figure size 432x288 with 1 Axes>"
      ]
     },
     "metadata": {
      "needs_background": "light"
     },
     "output_type": "display_data"
    }
   ],
   "source": [
    "import matplotlib.pyplot as plt\n",
    "plt.hist([1,1,2,3,4,5,6,6,7,8,10])\n",
    "plt.show()"
   ]
  },
  {
   "cell_type": "markdown",
   "metadata": {},
   "source": [
    "#### 1. 주사위 시뮬레이션 \n",
    "- 주사위를 굴린다\n",
    "- 나온 결과를 기론한다\n",
    "- 1,2번 n번 반복\n",
    "- 주사위 눈이 나온 횟수를 히스토그램으로 그림"
   ]
  },
  {
   "cell_type": "code",
   "execution_count": 5,
   "metadata": {},
   "outputs": [
    {
     "name": "stdout",
     "output_type": "stream",
     "text": [
      "6\n"
     ]
    }
   ],
   "source": [
    "import random\n",
    "print(random.randint(1,6)) # 1 이상 6 이하"
   ]
  },
  {
   "cell_type": "code",
   "execution_count": 11,
   "metadata": {},
   "outputs": [
    {
     "data": {
      "image/png": "[encoded data removed]",
      "text/plain": [
       "<Figure size 432x288 with 1 Axes>"
      ]
     },
     "metadata": {
      "needs_background": "light"
     },
     "output_type": "display_data"
    }
   ],
   "source": [
    "\n",
    "import random\n",
    "dice = []\n",
    "for i in range(1000000):\n",
    "    dice.append(random.randint(1,6))\n",
    "    \n",
    "plt.hist(dice, bins=6)\n",
    "plt.show()"
   ]
  },
  {
   "cell_type": "markdown",
   "metadata": {},
   "source": [
    "# 3. 기온 데이터를 히스토그램으로 표현하기\n",
    "- 1907년부터 2018년까지 수집된 서울의 기온 데이터를 히스토그램으로 표현해보기\n",
    "- 색은 빨간색으로, 구간은 100개로\n"
   ]
  },
  {
   "cell_type": "code",
   "execution_count": 13,
   "metadata": {},
   "outputs": [
    {
     "data": {
      "image/png": "[encoded data removed]",
      "text/plain": [
       "<Figure size 432x288 with 1 Axes>"
      ]
     },
     "metadata": {
      "needs_background": "light"
     },
     "output_type": "display_data"
    }
   ],
   "source": [
    "import csv\n",
    "import matplotlib.pyplot as plt\n",
    "\n",
    "f = open('seoul.csv')\n",
    "data = csv.reader(f)\n",
    "next(data)\n",
    "result = []\n",
    "\n",
    "for row in data:\n",
    "    if row[-1] != '':\n",
    "        result.append(float(row[-1]))\n",
    "\n",
    "plt.hist(result, bins=100, color = 'r') # 히스토그램으로 나타내기\n",
    "                                        # bins =  몇 개의 영역으로 쪼갤지\n",
    "plt.show()"
   ]
  },
  {
   "cell_type": "markdown",
   "metadata": {},
   "source": [
    "#### 8월 데이터만 뽑아서 "
   ]
  },
  {
   "cell_type": "code",
   "execution_count": 15,
   "metadata": {},
   "outputs": [
    {
     "data": {
      "image/png": "[encoded data removed]",
      "text/plain": [
       "<Figure size 432x288 with 1 Axes>"
      ]
     },
     "metadata": {
      "needs_background": "light"
     },
     "output_type": "display_data"
    }
   ],
   "source": [
    "import csv\n",
    "import matplotlib.pyplot as plt\n",
    "\n",
    "f = open('seoul.csv')\n",
    "data = csv.reader(f)\n",
    "next(data)\n",
    "aug = []\n",
    "\n",
    "for row in data:\n",
    "    month = row[0].split('-')[1] # - 로 구분한 값 중 2번째 값을 month에 저장\n",
    "    if row[-1] != '':\n",
    "        if month == '08': # 8월달이라면\n",
    "            aug.append(float(row[-1]))\n",
    "\n",
    "plt.hist(aug, bins=100, color = 'r') # 히스토그램으로 나타내기\n",
    "                                        # bins =  몇 개의 영역으로 쪼갤지\n",
    "plt.show()"
   ]
  },
  {
   "cell_type": "markdown",
   "metadata": {},
   "source": [
    "#### 1월과 8월의 데이터를 히스토그램으로 시각화하기"
   ]
  },
  {
   "cell_type": "code",
   "execution_count": 22,
   "metadata": {},
   "outputs": [
    {
     "data": {
      "image/png": "[encoded data removed]",
      "text/plain": [
       "<Figure size 432x288 with 1 Axes>"
      ]
     },
     "metadata": {
      "needs_background": "light"
     },
     "output_type": "display_data"
    }
   ],
   "source": [
    "import csv\n",
    "import matplotlib.pyplot as plt\n",
    "\n",
    "f = open('seoul.csv')\n",
    "data = csv.reader(f)\n",
    "next(data)\n",
    "aug = []\n",
    "jan = []\n",
    "\n",
    "for row in data:\n",
    "    month = row[0].split('-')[1] # - 로 구분한 값 중 2번째 값을 month에 저장\n",
    "    if row[-1] != '':\n",
    "        if month == '12': # 8월달이라면\n",
    "            aug.append(float(row[-1]))\n",
    "        if month == '09':\n",
    "            jan.append(float(row[-1]))\n",
    "\n",
    "plt.hist(aug, bins=100, color = 'r', label = 'Dec') # 히스토그램으로 나타내기\n",
    "plt.hist(jan, bins=100, color = 'b', label = 'Sep') # 히스토그램으로 나타내기\n",
    "plt.legend()\n",
    "plt.show()"
   ]
  },
  {
   "cell_type": "markdown",
   "metadata": {},
   "source": [
    "# 4. 기온 데이터를 상자 그림으로 표현하기\n",
    "-"
   ]
  },
  {
   "cell_type": "code",
   "execution_count": 28,
   "metadata": {},
   "outputs": [
    {
     "name": "stdout",
     "output_type": "stream",
     "text": [
      "[58, 85, 128, 195, 237, 274, 404, 436, 588, 627, 736, 927, 988]\n"
     ]
    },
    {
     "data": {
      "image/png": "[encoded data removed]",
      "text/plain": [
       "<Figure size 432x288 with 1 Axes>"
      ]
     },
     "metadata": {
      "needs_background": "light"
     },
     "output_type": "display_data"
    },
    {
     "name": "stdout",
     "output_type": "stream",
     "text": [
      "1/4 : 195.0\n",
      "2/4 : 404.0\n",
      "3/4 : 627.0\n"
     ]
    }
   ],
   "source": [
    "import matplotlib.pyplot as plt\n",
    "import random\n",
    "result = []\n",
    "for i in range(13):\n",
    "    result.append(random.randint(1,1000))\n",
    "print(sorted(result))\n",
    "\n",
    "plt.boxplot(result)\n",
    "plt.show()\n",
    "\n",
    "result = np.array(result)\n",
    "print('1/4 : '+str(np.percentile(result,25)))\n",
    "print('2/4 : '+str(np.percentile(result,50)))\n",
    "print('3/4 : '+str(np.percentile(result,75)))"
   ]
  },
  {
   "cell_type": "markdown",
   "metadata": {},
   "source": [
    "#### * 서울의 최고 기온 데이터를 박스플롯\n"
   ]
  },
  {
   "cell_type": "code",
   "execution_count": 30,
   "metadata": {},
   "outputs": [
    {
     "data": {
      "image/png": "[encoded data removed]",
      "text/plain": [
       "<Figure size 432x288 with 1 Axes>"
      ]
     },
     "metadata": {
      "needs_background": "light"
     },
     "output_type": "display_data"
    },
    {
     "name": "stdout",
     "output_type": "stream",
     "text": [
      "1/4 : 7.3\n",
      "2/4 : 18.6\n",
      "3/4 : 26.3\n"
     ]
    }
   ],
   "source": [
    "import csv\n",
    "f = open('seoul.csv')\n",
    "data = csv.reader(f)\n",
    "next(data)\n",
    "result = []\n",
    "\n",
    "for row in data:\n",
    "    if row[-1] != '':\n",
    "        result.append(float(row[-1]))\n",
    "        \n",
    "import matplotlib.pyplot as plt\n",
    "plt.boxplot(result)\n",
    "plt.show()\n",
    "\n",
    "import numpy as np\n",
    "result = np.array(result)\n",
    "print('1/4 : '+ str(np.percentile(result,25)))\n",
    "print('2/4 : '+ str(np.percentile(result,50)))\n",
    "print('3/4 : '+ str(np.percentile(result,75)))"
   ]
  },
  {
   "cell_type": "markdown",
   "metadata": {},
   "source": [
    "#### * 1월과 8월"
   ]
  },
  {
   "cell_type": "code",
   "execution_count": 31,
   "metadata": {},
   "outputs": [
    {
     "data": {
      "image/png": "[encoded data removed]",
      "text/plain": [
       "<Figure size 432x288 with 1 Axes>"
      ]
     },
     "metadata": {
      "needs_background": "light"
     },
     "output_type": "display_data"
    }
   ],
   "source": [
    "import csv\n",
    "f = open('seoul.csv')\n",
    "data = csv.reader(f)\n",
    "next(data)\n",
    "aug = []\n",
    "jan = []\n",
    "\n",
    "for row in data:\n",
    "    month = row[0].split('-')[1]\n",
    "    if row[-1] != '':\n",
    "        if month == '08' :\n",
    "            aug.append(float(row[-1]))\n",
    "        if month == '01' :\n",
    "            jan.append(float(row[-1]))\n",
    "        \n",
    "import matplotlib.pyplot as plt\n",
    "plt.boxplot(aug)\n",
    "plt.boxplot(jan)\n",
    "\n",
    "plt.show()\n",
    "\n"
   ]
  },
  {
   "cell_type": "code",
   "execution_count": 32,
   "metadata": {},
   "outputs": [
    {
     "data": {
      "image/png": "[encoded data removed]",
      "text/plain": [
       "<Figure size 432x288 with 1 Axes>"
      ]
     },
     "metadata": {
      "needs_background": "light"
     },
     "output_type": "display_data"
    }
   ],
   "source": [
    "# 8월과 1월의 최고 기온 데이터를 원소로 하는 리스트를 박스플롯\n",
    "plt.boxplot([aug,jan])\n",
    "plt.show()"
   ]
  },
  {
   "cell_type": "markdown",
   "metadata": {},
   "source": [
    "#### 최고 기온을 월별로 구분하여 표현"
   ]
  },
  {
   "cell_type": "code",
   "execution_count": 33,
   "metadata": {},
   "outputs": [
    {
     "data": {
      "image/png": "[encoded data removed]",
      "text/plain": [
       "<Figure size 432x288 with 1 Axes>"
      ]
     },
     "metadata": {
      "needs_background": "light"
     },
     "output_type": "display_data"
    }
   ],
   "source": [
    "import csv\n",
    "f = open('seoul.csv')\n",
    "data = csv.reader(f)\n",
    "next(data)\n",
    "\n",
    "# 월별 데이터를 저장할 리스트 moth 생성\n",
    "month = [[],[],[],[],[],[],[],[],[],[],[],[]]\n",
    "\n",
    "\n",
    "for row in data:\n",
    "    if row[-1] != '':\n",
    "        # 월과 같은 번호의 인덱스에 월별 데이터 저장 (예 : 1월 - month[0])\n",
    "        month[int(row[0].split('-')[1])-1].append(float(row[-1]))  # month[월-1의 인덱스]에 최고기온 저장\n",
    "        \n",
    "import matplotlib.pyplot as plt\n",
    "plt.boxplot(month)\n",
    "\n",
    "plt.show()\n",
    "\n"
   ]
  },
  {
   "cell_type": "markdown",
   "metadata": {},
   "source": [
    "#### 8월 일별 기온데이터를 상자 그림을 표현하기"
   ]
  },
  {
   "cell_type": "code",
   "execution_count": 44,
   "metadata": {},
   "outputs": [
    {
     "data": {
      "image/png": "[encoded data removed]",
      "text/plain": [
       "<Figure size 1000x500 with 1 Axes>"
      ]
     },
     "metadata": {},
     "output_type": "display_data"
    }
   ],
   "source": [
    "import csv\n",
    "import matplotlib.pyplot as plt\n",
    "\n",
    "f = open('seoul.csv')\n",
    "data = csv.reader(f)\n",
    "next(data)\n",
    "\n",
    "# 일별 데이터를 저장할 리스트 day 생성\n",
    "day = []\n",
    "\n",
    "# day 리스트에 31개의 리스트 생성  0~30  : 31개\n",
    "for i in range(31):\n",
    "    day.append([])\n",
    "    \n",
    "\n",
    "for row in data:\n",
    "    if row[-1] != '':\n",
    "        # 일과 같은 번호의 인덱스에 일별 데이터 저장 (예 : 1일 - day[0])\n",
    "        day[int(row[0].split('-')[2])-1].append(float(row[-1]))  # month[월-1의 인덱스]에 최고기온 저장\n",
    "        \n",
    "plt.style.use('ggplot') # 그래프 스타일 지정 / 회색의 격자 무늬, 중위수를 표현하는 선의 색이 바뀜\n",
    "plt.figure(figsize=(10,5), dpi = 100) # 박스의 크기 지정\n",
    "plt.boxplot(day, showfliers=False) # 이상치 값이 보이지 않게 설정하는 코드\n",
    "plt.show()\n",
    "\n"
   ]
  },
  {
   "cell_type": "code",
   "execution_count": null,
   "metadata": {},
   "outputs": [],
   "source": []
  },
  {
   "cell_type": "code",
   "execution_count": null,
   "metadata": {},
   "outputs": [],
   "source": []
  },
  {
   "cell_type": "code",
   "execution_count": null,
   "metadata": {},
   "outputs": [],
   "source": []
  },
  {
   "cell_type": "code",
   "execution_count": null,
   "metadata": {},
   "outputs": [],
   "source": []
  },
  {
   "cell_type": "code",
   "execution_count": null,
   "metadata": {},
   "outputs": [],
   "source": []
  }
 ],
 "metadata": {
  "kernelspec": {
   "display_name": "Python 3",
   "language": "python",
   "name": "python3"
  },
  "language_info": {
   "codemirror_mode": {
    "name": "ipython",
    "version": 3
   },
   "file_extension": ".py",
   "mimetype": "text/x-python",
   "name": "python",
   "nbconvert_exporter": "python",
   "pygments_lexer": "ipython3",
   "version": "3.7.4"
  }
 },
 "nbformat": 4,
 "nbformat_minor": 2
}
